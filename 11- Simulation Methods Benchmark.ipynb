{
 "cells": [
  {
   "cell_type": "markdown",
   "id": "94e80840",
   "metadata": {},
   "source": [
    "# Simulation Methods Benchmark\n",
    "In this notbook, we investigate how the error, time, and memory complexity of different quantum simulation tools, namely qutip and the trotter methods, scales with increasing number of qubits. \n",
    "\n",
    "The Hamiltonian to be used in this notebook is:\n",
    "\\begin{equation}\\label{Trapped Ions Hamiltonian}H = -\\sum_{i,j}J_{i,j}\\sigma_i^z \\sigma_j^z - h \\sum\\sigma_j^x  \\end{equation}\n",
    "\n",
    "The Trotter-Suzuki formula we can approximate the multiplication of two non-commmuting operaters in the exponent to:\n",
    "$$ e^{xAB} = \\lim_{n \\to 0}(e^{xA/n}e^{xB/n})^n $$\n",
    "Where A and B are operators. For the purpose of this notebook, we will take $ A = \\sum_{i,j}J_{i,j}\\sigma_i^z \\sigma_j^z$ and $B = h \\sum\\sigma_j^x $.\n",
    "\n",
    "We will use the default qutip options for this notebook.\n",
    "\n",
    "Both methods will be compared to the numerical solution using np.expm(). \n",
    "\n",
    "\n",
    "\n"
   ]
  },
  {
   "cell_type": "markdown",
   "id": "56ba6930",
   "metadata": {},
   "source": [
    "Libraries:"
   ]
  },
  {
   "cell_type": "code",
   "execution_count": 154,
   "id": "d9a3bb97",
   "metadata": {},
   "outputs": [
    {
     "name": "stdout",
     "output_type": "stream",
     "text": [
      "done\n"
     ]
    }
   ],
   "source": [
    "import matplotlib.pyplot as plt\n",
    "import numpy as np\n",
    "\n",
    "# qutip\n",
    "from qutip import *\n",
    "\n",
    "# Numerical\n",
    "from scipy.linalg import expm\n",
    "\n",
    "# Trotter\n",
    "from numpy.linalg import matrix_power\n",
    "\n",
    "# Time performance\n",
    "import time\n",
    "\n",
    "print(\"done\")"
   ]
  },
  {
   "cell_type": "markdown",
   "id": "3776791c",
   "metadata": {},
   "source": [
    "## N-qubits simulation using qutip "
   ]
  },
  {
   "cell_type": "code",
   "execution_count": 155,
   "id": "07d84be8",
   "metadata": {},
   "outputs": [],
   "source": [
    "# perfrom qutip simulation for an n-qubits system where n = len(J). \n",
    "# initial_state must be a ket qutip Qobj representing the initial_state of the system with shape(2^n, 1).\n",
    "# J must be an nxn matrix and h must be a real number.\n",
    "# times is a list of time points for which it is desired to know the state of the system.\n",
    "# options is of type Options() to control the qutip integrator.\n",
    "# returns a list of Qobj of type ket representing the state of the system at every time point in times.\n",
    "# returns the time needed to simulate\n",
    "def qutip_simulate(initial_state, J, h, times, options):\n",
    "    \n",
    "    # Time performance\n",
    "    begin_time = time.time()\n",
    "    \n",
    "    N = len(J)\n",
    "    H = construct_hamiltonian(J, h)\n",
    "    result = sesolve(H, initial_state, times, options = options)\n",
    "    return result.states, time.time() - begin_time\n",
    "\n",
    "\n",
    "# Construct the Trapped Ion Hamiltonian (Top section) for an n-qubits system where n = len(J) for a given J and h\n",
    "# J must be an nxn matrix and h must be a real number\n",
    "# returns a qutip Qobj representing the Trapped Ion Hamiltonian for the n-qubits system\n",
    "def construct_hamiltonian(J, h):\n",
    "    N = len(J)\n",
    "    \n",
    "    sum_sx = []\n",
    "    # build h times sum sigma_j^x\n",
    "    for i in range(N):\n",
    "        # make a list of N qeye matrices for one qubit\n",
    "        op_list = []\n",
    "        for _ in range(N):\n",
    "            op_list.append(qeye(2))  \n",
    "        # replace the jth element with sigmax, tensor, then append sum_sx\n",
    "        op_list[i] = sigmax()\n",
    "        sum_sx.append(h*tensor(op_list))\n",
    "        \n",
    "    sum_sz_sz = []\n",
    "    # bild sum J_{i,j} sigma_i^z sigma_j^z, we ignore the case where i = j\n",
    "    for i in range(N):      \n",
    "        for j in range(N):\n",
    "            if i == j:\n",
    "                continue\n",
    "            # make a list of N qeye matrices for one qubit\n",
    "            op_list = []\n",
    "            for _ in range(N):\n",
    "                op_list.append(qeye(2))  \n",
    "            # replace the ith and jth elements with sigma_z, tensor, then append to sum_sz_sz\n",
    "            op_list[i] = sigmaz()\n",
    "            op_list[j] = sigmaz()\n",
    "            sum_sz_sz.append(J[i][j]*tensor(op_list))\n",
    "    H = 0\n",
    "    for op in sum_sz_sz:\n",
    "        H -= op\n",
    "    for op in sum_sx:\n",
    "        H -=op\n",
    "    return H\n"
   ]
  },
  {
   "cell_type": "markdown",
   "id": "31965ac3",
   "metadata": {},
   "source": [
    "## N-qubits simulation using the Trotter-Suzuki formula"
   ]
  },
  {
   "cell_type": "code",
   "execution_count": 156,
   "id": "9f687291",
   "metadata": {},
   "outputs": [],
   "source": [
    "# perfrom Trotter formula simulation for an n-qubits system where n = len(J). \n",
    "# initial_state must be a ket qutip Qobj representing the initial_state of the system with shape(2^n, 1).\n",
    "# J must be an nxn matrix and h must be a real number.\n",
    "# Trotter_num is a integer\n",
    "# times is a list of time points for which it is desired to know the state of the system.\n",
    "# returns a list representing the state of the system at every time point in times.\n",
    "# returns the time needed to simulate\n",
    "\n",
    "def trotter_sim(initial_state, J, h, trotter_num, times):\n",
    "    # Time performance\n",
    "    begin_time = time.time()\n",
    "    \n",
    "    initial_state = np.asarray(initial_state)\n",
    "    \n",
    "    N = len(J)\n",
    "\n",
    "    sum_sx = []\n",
    "    # build h times sum sigma_j^x\n",
    "    for i in range(N):\n",
    "        # make a list of N qeye matrices for one qubit\n",
    "        op_list = []\n",
    "        for _ in range(N):\n",
    "            op_list.append(qeye(2))  \n",
    "        # replace the jth element with sigmax, tensor, then append sum_sx\n",
    "        op_list[i] = sigmax()\n",
    "        sum_sx.append(h*tensor(op_list))\n",
    "        \n",
    "    B = 0\n",
    "    for op in sum_sx:\n",
    "        B -= op\n",
    "    B = np.asarray(B)\n",
    "    \n",
    "    sum_sz_sz = []\n",
    "    # bild sum J_{i,j} sigma_i^z sigma_j^z, we ignore the case where i = j\n",
    "    for i in range(N):      \n",
    "        for j in range(N):\n",
    "            if i == j:\n",
    "                continue\n",
    "            # make a list of N qeye matrices for one qubit\n",
    "            op_list = []\n",
    "            for _ in range(N):\n",
    "                op_list.append(qeye(2))  \n",
    "            # replace the ith and jth elements with sigma_z, tensor, then append to sum_sz_sz\n",
    "            op_list[i] = sigmaz()\n",
    "            op_list[j] = sigmaz()\n",
    "            sum_sz_sz.append(J[i][j]*tensor(op_list))\n",
    "            \n",
    "    A = 0        \n",
    "    for op in sum_sz_sz:\n",
    "        A -= op\n",
    "    A = np.asarray(A)\n",
    "    \n",
    "    # IMPORTANT: if we are simulating a 1-qubit system, there won't be a sum_sz_sz term\n",
    "    # so we don't have to perform the matrix multiplication of np.matmul(expm(-1j*A*1/trotter_num), expm(-1j*B*1/trotter_num))\n",
    "    states = []\n",
    "    if N == 1:\n",
    "        for t in times:\n",
    "            U = expm(-1j*B*t/trotter_num)\n",
    "            U = matrix_power(U, trotter_num)\n",
    "            states.append(np.matmul(U, initial_state))\n",
    "    else:\n",
    "        for t in times:\n",
    "            U = np.matmul(expm(-1j*A*t/trotter_num), expm(-1j*B*t/trotter_num))\n",
    "            U = matrix_power(U, trotter_num)\n",
    "            states.append(np.matmul(U, initial_state))            \n",
    "    return states, time.time() - begin_time"
   ]
  },
  {
   "cell_type": "markdown",
   "id": "d4ceec87",
   "metadata": {},
   "source": [
    "## N-qubits Numerical Simulation using np.expm()"
   ]
  },
  {
   "cell_type": "code",
   "execution_count": 157,
   "id": "00e1e5e3",
   "metadata": {},
   "outputs": [],
   "source": [
    "def numerical_sim(initial_state, J, h, times):\n",
    "    # Time performance\n",
    "    begin_time = time.time()\n",
    "    \n",
    "    H_numerical = np.asarray(construct_hamiltonian(J, h))\n",
    "\n",
    "    initial_state_numerical = np.asarray(initial_state)\n",
    "\n",
    "    numerical_states = []\n",
    "    for t in times:\n",
    "        U = expm(-1j*H_numerical*t)\n",
    "        mult = np.matmul(U, initial_state_numerical)\n",
    "        numerical_states.append(mult)\n",
    "    return numerical_states, time.time() - begin_time"
   ]
  },
  {
   "cell_type": "markdown",
   "id": "90500c63",
   "metadata": {},
   "source": [
    "# Sanity Check\n",
    "Here we perform the three simulations on a two qubits case to check if we can generate the same result acquired in notbooks: 10- Trotter Simulation and 9- Trapped_Ions_Hamiltonian."
   ]
  },
  {
   "cell_type": "code",
   "execution_count": 158,
   "id": "5bba1941",
   "metadata": {},
   "outputs": [
    {
     "name": "stdout",
     "output_type": "stream",
     "text": [
      "done\n"
     ]
    }
   ],
   "source": [
    "# Params\n",
    "h = 1\n",
    "J = np.array([[1, 1], [1, 1]])\n",
    "initial_state = tensor(basis(2, 0), basis(2, 0))\n",
    "trotter_num = 100\n",
    "times = np.linspace(0.0, 10, 100)\n",
    "\n",
    "# Numerical\n",
    "numerical_states, t = numerical_sim(initial_state, J, h, times)\n",
    "\n",
    "# qutip\n",
    "options = Options()\n",
    "qutip_states, t = qutip_simulate(initial_state, J, h, times, options)\n",
    "\n",
    "# Trotter\n",
    "trotter_states, t = trotter_sim(initial_state, J, h, trotter_num, times)\n",
    "\n",
    "print(\"done\")"
   ]
  },
  {
   "cell_type": "code",
   "execution_count": 159,
   "id": "1d4a65d6",
   "metadata": {},
   "outputs": [
    {
     "data": {
      "text/plain": [
       "Text(0.5, 1.0, 'Error in qutip for the trapped ions hamiltonian against numerical solution')"
      ]
     },
     "execution_count": 159,
     "metadata": {},
     "output_type": "execute_result"
    },
    {
     "data": {
      "image/png": "[encoded data removed]",
      "text/plain": [
       "<Figure size 1440x576 with 1 Axes>"
      ]
     },
     "metadata": {
      "needs_background": "light"
     },
     "output_type": "display_data"
    },
    {
     "data": {
      "image/png": "[encoded data removed]",
      "text/plain": [
       "<Figure size 1440x576 with 1 Axes>"
      ]
     },
     "metadata": {
      "needs_background": "light"
     },
     "output_type": "display_data"
    }
   ],
   "source": [
    "trotter_error = []\n",
    "qutip_error = []\n",
    "for i in range(len(times)):\n",
    "    y = []\n",
    "    y.append(trotter_states[i][0] - numerical_states[i][0])\n",
    "    y.append(trotter_states[i][1] - numerical_states[i][1])\n",
    "    y.append(trotter_states[i][2] - numerical_states[i][2])\n",
    "    y.append(trotter_states[i][3] - numerical_states[i][3])\n",
    "    trotter_error.append(np.abs(np.vdot(y, y)))\n",
    "    y = []\n",
    "    y.append(qutip_states[i][0] - numerical_states[i][0])\n",
    "    y.append(qutip_states[i][1] - numerical_states[i][1])\n",
    "    y.append(qutip_states[i][2] - numerical_states[i][2])\n",
    "    y.append(qutip_states[i][3] - numerical_states[i][3])\n",
    "    qutip_error.append(np.abs(np.vdot(y, y)))\n",
    "\n",
    "p = plt.figure(1)\n",
    "p.set_figwidth(20)\n",
    "p.set_figheight(8)\n",
    "p = plt.subplot()\n",
    "p.plot(times, trotter_error) \n",
    "p.legend((\"Trotter_num = 100\",))\n",
    "p.set_xlabel('Time') \n",
    "p.set_ylabel('Error') \n",
    "p.set_title(\"Error in using the Trotter formula for the trapped ions hamiltonian against numerical solution\")\n",
    "\n",
    "p = plt.figure(2)\n",
    "p.set_figwidth(20)\n",
    "p.set_figheight(8)\n",
    "p = plt.subplot()\n",
    "p.plot(times, qutip_error) \n",
    "p.legend((\"Qutip Error\",))\n",
    "p.set_xlabel('Time') \n",
    "p.set_ylabel('Error') \n",
    "p.set_title(\"Error in qutip for the trapped ions hamiltonian against numerical solution\")\n"
   ]
  },
  {
   "cell_type": "markdown",
   "id": "1808560e",
   "metadata": {},
   "source": [
    "As we can see, the two figures are identical to the figures produced before. The trotter simulation figure is identical to the first figure in the 10- Trotter Simulation notbook and the qutip figure in identical to the third figure in the 9- Trapped_Ions_Hamiltonian notbook. The generlization for n-qubits of the algorithms written in the 9th and 10th notbooks is therefore correct, atleast for the two qubits case."
   ]
  },
  {
   "cell_type": "markdown",
   "id": "00f4ea9d",
   "metadata": {},
   "source": [
    "# Analysis\n",
    "Here, we investigate the algorithms behavior for different number of qubits starting from 1 qubits system to 12 qubits system. We start with the trotter method by investigating the error for different trotter number as the number of qubits scales. We, then, must generate 12 different Js matrices and 12 different initial_states. All the Js components will be 1. All the initial states will be a tensor product of the state $|0\\rangle$."
   ]
  },
  {
   "cell_type": "code",
   "execution_count": 163,
   "id": "4af30b68",
   "metadata": {},
   "outputs": [
    {
     "name": "stdout",
     "output_type": "stream",
     "text": [
      "done\n"
     ]
    }
   ],
   "source": [
    "Js = []\n",
    "initial_states = []\n",
    "t_num = 100\n",
    "trotter_nums = [t_num]\n",
    "qubits_num = []\n",
    "for i in range(1, 13):\n",
    "    qubits_num.append(i)\n",
    "    Js.append(np.ones((i, i)))\n",
    "    if i < 6:\n",
    "        t_num = t_num * 10\n",
    "        trotter_nums.append(t_num)\n",
    "    is_list = []\n",
    "    for _ in range(i):\n",
    "        is_list.append(basis(2, 0))\n",
    "    initial_states.append(tensor(is_list))\n",
    "    \n",
    "# Params\n",
    "h = 1\n",
    "times = np.linspace(0.0, 10, 100)\n",
    "\n",
    "# Trotter\n",
    "trotter_states, t = trotter_sim(initial_states[r], Js[r], h, trotter_num, times)\n",
    "\n",
    "print(\"done\")"
   ]
  },
  {
   "cell_type": "markdown",
   "id": "a2aecae9",
   "metadata": {},
   "source": [
    "## Numerical Solution from 1 to 12 qubits\n",
    "First, we generate the numerical solution that the other algorithms will be compared to:"
   ]
  },
  {
   "cell_type": "code",
   "execution_count": null,
   "id": "17425cb9",
   "metadata": {},
   "outputs": [],
   "source": [
    "numerical_times = []\n",
    "numerical_states_at_diff_qubits = []\n",
    "\n",
    "# Time performance\n",
    "begin_time = time.time()\n",
    "\n",
    "for i in range(len(Js)):\n",
    "    states = numerical_sim(initial_states[i], Js[i], h, times)\n",
    "    numerical_times.append(states[1])\n",
    "    numerical_states_at_diff_qubits.append(states[0])\n",
    "    print(str(i) + \" qubits: done\")\n",
    "    \n",
    "numerical_entire_sim_time = time.time() - begin_time\n",
    "print(\"done\")\n",
    "print(numerical_entire_sim_time)"
   ]
  },
  {
   "cell_type": "markdown",
   "id": "ae9cc126",
   "metadata": {},
   "source": [
    "## Trotter Solution from 1 to 12 qubits"
   ]
  },
  {
   "cell_type": "code",
   "execution_count": null,
   "id": "803fbed3",
   "metadata": {},
   "outputs": [],
   "source": [
    "trotter_times = []\n",
    "trotter_states_at_diff_qubits_at_diff_trotter_num = []# a list of a list(states for n qubits at diff trotter nums) \n",
    "                                                      # of a list(states for spe)\n",
    "for i in range(len(Js)):\n",
    "    t = []\n",
    "    trotter_states_for_diff_trotter_num = []\n",
    "    for j in range(len(trotter_nums)):\n",
    "        states = trotter_sim(initial_states[i], Js[i], h, trotter_nums[j], times)\n",
    "        trotter_states_for_diff_trotter_num.append(states[0])\n",
    "        t.append(states[1])\n",
    "    trotter_states_at_diff_qubits_at_diff_trotter_num.append(trotter_states_for_diff_trotter_num)\n",
    "    trotter_times.append(t)\n",
    "    print(str(i) + \" qubits: done\")"
   ]
  },
  {
   "cell_type": "markdown",
   "id": "c7a8a9f2",
   "metadata": {},
   "source": [
    "## Qutip Solution from 1 to 12 qubits"
   ]
  },
  {
   "cell_type": "code",
   "execution_count": null,
   "id": "276556ab",
   "metadata": {},
   "outputs": [],
   "source": [
    "qutip_times = []\n",
    "qutip_states_at_diff_qubits = []\n",
    "\n",
    "# Time performance\n",
    "begin_time = time.time()\n",
    "\n",
    "for i in range(len(Js)):\n",
    "    states = qutip_sim(initial_states[i], Js[i], h, times)\n",
    "    qutip_times.append(states[1])\n",
    "    qutip_states_at_diff_qubits.append(states[0])\n",
    "    print(str(i) + \" qubits: done\")\n",
    "    \n",
    "qutip_entire_sim_time = time.time() - begin_time\n",
    "print(\"done\")\n",
    "print(qutip_entire_sim_time)"
   ]
  },
  {
   "cell_type": "markdown",
   "id": "dcdca56e",
   "metadata": {},
   "source": [
    "## Error\n",
    "The error is defined as the amplitude of the difference between the state vector of the algorithm being studied and the numerical state vector."
   ]
  },
  {
   "cell_type": "code",
   "execution_count": null,
   "id": "e00a5d07",
   "metadata": {},
   "outputs": [],
   "source": [
    "trotter_error = []\n",
    "for i in range(len(Js)):\n",
    "    n = len(Js[i]) # nums of qubits currently considered\n",
    "    t_nums_error = []\n",
    "    for j in range(len(trotter_nums)):\n",
    "        error = []\n",
    "        numerical_states = numerical_states_at_diff_qubits[i]\n",
    "        trotter_states = trotter_states_at_diff_qubits_at_diff_trotter_num[i][j]\n",
    "        for k in range(len(times)):\n",
    "            y = []\n",
    "            for l in range(n):\n",
    "                y.append(numerical_states[k][l] - trotter_states[k][l])\n",
    "            error.append(np.abs(np.vdot(y, y)))\n",
    "        t_nums_error.append(error)\n",
    "    trotter_error.append(t_nums_error)\n",
    "print(\"done\")\n",
    "        "
   ]
  },
  {
   "cell_type": "code",
   "execution_count": null,
   "id": "7136af26",
   "metadata": {},
   "outputs": [],
   "source": [
    "qutip_error = []\n",
    "for i in range(len(Js)):\n",
    "    n = len(Js[i]) # nums of qubits currently considered\n",
    "    error = []\n",
    "    numerical_states = numerical_states_at_diff_qubits[i]\n",
    "    qutip_states = qutip_states_at_diff_qubits[i]\n",
    "    for j in range(len(times)):\n",
    "        y = []\n",
    "        for j in range(n):\n",
    "            y.append(numerical_states[j][k] - trotter_states[j][k])\n",
    "        error.append(np.abs(np.vdot(y, y)))\n",
    "    qutip_error.append(error)\n",
    "print(\"done\")\n",
    "        "
   ]
  },
  {
   "cell_type": "code",
   "execution_count": null,
   "id": "d621d60f",
   "metadata": {},
   "outputs": [],
   "source": [
    "p = plt.figure(1)\n",
    "p.set_figwidth(20)\n",
    "p.set_figheight(8)\n",
    "p = plt.subplot()\n",
    "for error in qutip_error:\n",
    "    p.plot(times, error) \n",
    "p.legend(qubits_num)\n",
    "p.set_xlabel('Time') \n",
    "p.set_ylabel('Error') \n",
    "p.set_title(\"Error when using qutip to simulate the trapped ions hamiltonian against numerical solution for different qubits number\")"
   ]
  },
  {
   "cell_type": "code",
   "execution_count": null,
   "id": "79a0ca76",
   "metadata": {},
   "outputs": [],
   "source": [
    "p = plt.figure(1)\n",
    "p.set_figwidth(20)\n",
    "p.set_figheight(8)\n",
    "p = plt.subplot()\n",
    "for error in trotter_error:\n",
    "    p.plot(times, error[3]) \n",
    "p.legend(qubits_num)\n",
    "p.set_xlabel('Time') \n",
    "p.set_ylabel('Error') \n",
    "p.set_title(\"Error when using The Trotter-Suzuki formula to simulate the trapped ions hamiltonian against numerical solution for different qubits number(Trotter Number = 10000)\")"
   ]
  },
  {
   "cell_type": "code",
   "execution_count": null,
   "id": "41ba786c",
   "metadata": {},
   "outputs": [],
   "source": [
    "for errors in trotter_error:\n",
    "    i = 1\n",
    "    p = plt.figure(1)\n",
    "    p.set_figwidth(20)\n",
    "    p.set_figheight(8)\n",
    "    p = plt.subplot()\n",
    "    for error in errors:\n",
    "        p.plot(times, error) \n",
    "    p.legend(trotter_nums)\n",
    "    p.set_xlabel('Time') \n",
    "    p.set_ylabel('Error') \n",
    "    p.set_title(\"Error when using The Trotter-Suzuki formula to simulate the trapped ions hamiltonian against numerical solution for\" + str(i) + \"  qubits\")\n",
    "    i += 1"
   ]
  }
 ],
 "metadata": {
  "kernelspec": {
   "display_name": "Python 3",
   "language": "python",
   "name": "python3"
  },
  "language_info": {
   "codemirror_mode": {
    "name": "ipython",
    "version": 3
   },
   "file_extension": ".py",
   "mimetype": "text/x-python",
   "name": "python",
   "nbconvert_exporter": "python",
   "pygments_lexer": "ipython3",
   "version": "3.8.8"
  }
 },
 "nbformat": 4,
 "nbformat_minor": 5
}
