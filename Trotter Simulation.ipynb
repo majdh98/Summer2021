{
 "cells": [
  {
   "cell_type": "markdown",
   "id": "6dc707b3",
   "metadata": {},
   "source": [
    "# Trotter Simulation \n",
    "Here we perfrom Quantum simulation of quantum system using the Trotter-Suzuki formula to decompose the exponential of a sum\n",
    "of operators. The concepts and methods used in this notebook can be found in \"Simulating Hamiltonian Dynamics Using Product Formulas\", Omar Al Saeed. \n",
    "\n",
    "The most straightforward way of applying the time evolution operator $U(t)$ on some arbitrary initial state $|\\phi(0)\\rangle $ is to diagonalize the operator $H$ However, the basis of the diagonalized representation is often nontrivial, especially in cases where the Hamiltonian is a sum of non-commuting terms. However, using the Trotter-Suzuki formula we can approximate the multiplication of two non-commmuting operaters in the exponent to:\n",
    "\n",
    "$$ e^{xAB} = \\lim_{n \\to 0}(e^{xA/n}e^{xB/n})^n $$\n",
    "Where A and B are operators. \n",
    "\n",
    "The hamiltonian studied in this notbook is:\n",
    "\\begin{equation}H = -\\sum_{i,j}J_{i,j}\\sigma_i^z \\sigma_j^z - h_j \\sum\\sigma_j^x  \\end{equation}\n",
    "\n",
    "The $\\sigma_z$ terms do commute with each other, but don't commute with the $ \\sigma_x $ terms. For the purpose of this paper, we will take $ A = \\sum_{i,j}J_{i,j}\\sigma_i^z \\sigma_j^z$ and $B = h_j \\sum\\sigma_j^x $"
   ]
  },
  {
   "cell_type": "code",
   "execution_count": 39,
   "id": "89a772b4",
   "metadata": {},
   "outputs": [
    {
     "name": "stdout",
     "output_type": "stream",
     "text": [
      "done\n"
     ]
    }
   ],
   "source": [
    "import matplotlib.pyplot as plt\n",
    "import numpy as np\n",
    "from qutip import *\n",
    "from scipy.linalg import expm\n",
    "from numpy.linalg import matrix_power\n",
    "\n",
    "from scipy.integrate import ode\n",
    "\n",
    "# for analytical exponentiation\n",
    "from scipy.linalg import expm \n",
    "print(\"done\")"
   ]
  },
  {
   "cell_type": "code",
   "execution_count": 51,
   "id": "eb2b5a03",
   "metadata": {},
   "outputs": [
    {
     "name": "stdout",
     "output_type": "stream",
     "text": [
      "[[-2.+0.j  0.+0.j  0.+0.j  0.+0.j]\n",
      " [ 0.+0.j  2.+0.j  0.+0.j  0.+0.j]\n",
      " [ 0.+0.j  0.+0.j  2.+0.j  0.+0.j]\n",
      " [ 0.+0.j  0.+0.j  0.+0.j -2.+0.j]]\n"
     ]
    },
    {
     "data": {
      "text/plain": [
       "array([[-4.51417953e+119+3.18918183e+119j],\n",
       "       [-4.34925538e+119+3.41067779e+119j],\n",
       "       [-4.34925538e+119+3.41067779e+119j],\n",
       "       [-4.51417953e+119+3.18918183e+119j]])"
      ]
     },
     "execution_count": 51,
     "metadata": {},
     "output_type": "execute_result"
    }
   ],
   "source": [
    "def trotter_sim(J, h, initial_state, time, trotter_num):\n",
    "    \n",
    "    initial_state = np.asarray(initial_state)\n",
    "    \n",
    "    N = len(h)\n",
    "    sx = np.array([[0, 1], [1, 0]])\n",
    "    sz = np.array([[1, 0], [0, -1]])\n",
    "    I = np.array([[1, 0], [0, 1]])\n",
    "    \n",
    "    sum_sx = []\n",
    "    # build h times sum sigma_j^x\n",
    "    for i in range(N):\n",
    "        # make a list of N qeye matrices for one qubit\n",
    "        op_list = []\n",
    "        for _ in range(N):\n",
    "            op_list.append(qeye(2))  \n",
    "        # replace the jth element with sigmax, tensor, then append sum_sx\n",
    "        op_list[i] = sigmax()\n",
    "        sum_sx.append(h[i]*tensor(op_list))\n",
    "        \n",
    "    B = 0\n",
    "    for op in sum_sx:\n",
    "        B -= op\n",
    "    B = np.asarray(B)\n",
    "#     B = np.matmul(h, B)\n",
    "    \n",
    "    sum_sz_sz = []\n",
    "    # bild sum J_{i,j} sigma_i^z sigma_j^z, we ignore the case where i = j\n",
    "    for i in range(N):      \n",
    "        for j in range(N):\n",
    "            if i == j:\n",
    "                continue\n",
    "            # make a list of N qeye matrices for one qubit\n",
    "            op_list = []\n",
    "            for _ in range(N):\n",
    "                op_list.append(qeye(2))  \n",
    "            # replace the ith and jth elements with sigma_z, tensor, then append to sum_sz_sz\n",
    "            op_list[i] = sigmaz()\n",
    "            op_list[j] = sigmaz()\n",
    "            sum_sz_sz.append(J[i][j]*tensor(op_list))\n",
    "            \n",
    "    A = 0        \n",
    "    for op in sum_sz_sz:\n",
    "        A -= op\n",
    "    A = np.asarray(A)\n",
    "    \n",
    "    U = np.matmul(np.exp(-1j*A*time/trotter_num), np.exp(-1j*B*time/trotter_num))\n",
    "    U = matrix_power(U, trotter_num)\n",
    "    \n",
    "    return np.matmul(U, initial_state)\n",
    "    \n",
    "    \n",
    "    \n",
    "    \n",
    "h = np.array([1, 1])\n",
    "J = np.array([[1, 1], [1, 1]])\n",
    "initial_state = tensor(basis(2, 0), basis(2, 0))\n",
    "\n",
    "trotter_sim(J, h, initial_state, 5, 100)\n",
    "    \n",
    "    \n",
    "        \n",
    "\n",
    "    "
   ]
  },
  {
   "cell_type": "code",
   "execution_count": 22,
   "id": "d9a3f27a",
   "metadata": {},
   "outputs": [
    {
     "name": "stdout",
     "output_type": "stream",
     "text": [
      "[[ 1  0]\n",
      " [ 0 -1]]\n",
      "[1 0]\n",
      "[ 0 -1]\n",
      "[0 0]\n"
     ]
    },
    {
     "data": {
      "text/plain": [
       "array([1, 0])"
      ]
     },
     "execution_count": 22,
     "metadata": {},
     "output_type": "execute_result"
    }
   ],
   "source": [
    "sigma_z = np.array([[1, 0], [0, -1]])\n",
    "h = sigma_z\n",
    "print(h)\n",
    "print(h[0])\n",
    "print(h[1])\n",
    "print(h[0]*h[1])\n",
    "# print(np.matmul(np.array([[1], [0]]), h[1]))\n",
    "h[0].T"
   ]
  }
 ],
 "metadata": {
  "kernelspec": {
   "display_name": "Python 3",
   "language": "python",
   "name": "python3"
  },
  "language_info": {
   "codemirror_mode": {
    "name": "ipython",
    "version": 3
   },
   "file_extension": ".py",
   "mimetype": "text/x-python",
   "name": "python",
   "nbconvert_exporter": "python",
   "pygments_lexer": "ipython3",
   "version": "3.8.8"
  }
 },
 "nbformat": 4,
 "nbformat_minor": 5
}
