{
 "cells": [
  {
   "cell_type": "markdown",
   "id": "42a555e6",
   "metadata": {},
   "source": [
    "# Qutip two qubits error\n",
    "\n",
    "In this notebook, we re-examine the case in N_Qubits_time_independet_Hamiltonian_Simulation\n",
    "of simulating two qubits system using sesolve(). Here, however, we take the hamiltonian to be $ \\sigma_z \\otimes \\sigma_z $ and the initial state to be $ |++\\rangle$ to eliminate any error that might be caused by the change of basis when diagonalizing the hamiltonian."
   ]
  },
  {
   "cell_type": "code",
   "execution_count": 6,
   "id": "8662ecef",
   "metadata": {},
   "outputs": [
    {
     "name": "stdout",
     "output_type": "stream",
     "text": [
      "done\n"
     ]
    }
   ],
   "source": [
    "import matplotlib.pyplot as plt\n",
    "import numpy as np\n",
    "from qutip import *\n",
    "\n",
    "from scipy.integrate import ode\n",
    "\n",
    "# for analytical exponentiation\n",
    "from scipy.linalg import expm \n",
    "print(\"done\")\n"
   ]
  },
  {
   "cell_type": "markdown",
   "id": "dcdb2d77",
   "metadata": {},
   "source": []
  },
  {
   "cell_type": "markdown",
   "id": "b4fbee4c",
   "metadata": {},
   "source": [
    "First, we start with the exact soltuion.\n",
    "## Exact Solution\n",
    "The hamiltonain is given as:\n",
    "\\begin{equation}\n",
    "H = w_0 \\hbar \\sigma_z \\otimes \\sigma_z = w_0 \\hbar \\begin{bmatrix} 1 & 0 & 0 & 0\\\\ 0 & -1 & 0 & 0 \\\\ 0 & 0 & -1 & 0\\\\ 0 & 0 & 0 & 1\\end{bmatrix}\n",
    "\\end{equation}\n",
    "The evolution equation is then:\n",
    "\\begin{equation}\n",
    "\\phi(t) = e^{\\frac{-iHt}{\\hbar}}\\phi(0) = e^{-iw_0 \\sigma_z \\otimes \\sigma_zt}\\phi(0) = \\begin{bmatrix} e^{-iw_0t} & 0 & 0 & 0\\\\ 0 & e^{iw_0t} & 0 & 0 \\\\ 0 & 0 & e^{iw_0t} & 0\\\\ 0 & 0 & 0 & e^{-iw_0t}\\end{bmatrix}\\phi(0)\n",
    "\\end{equation}"
   ]
  },
  {
   "cell_type": "code",
   "execution_count": 5,
   "id": "ccd3fd2e",
   "metadata": {},
   "outputs": [
    {
     "name": "stdout",
     "output_type": "stream",
     "text": [
      "[[0.5]\n",
      " [0.5]\n",
      " [0.5]\n",
      " [0.5]]\n"
     ]
    }
   ],
   "source": [
    "# Initial state\n",
    "initial_state = (1/2)*np.array([[1], [1], [1], [1]])\n",
    "\n",
    "# unitary\n",
    "u = "
   ]
  }
 ],
 "metadata": {
  "kernelspec": {
   "display_name": "Python 3",
   "language": "python",
   "name": "python3"
  },
  "language_info": {
   "codemirror_mode": {
    "name": "ipython",
    "version": 3
   },
   "file_extension": ".py",
   "mimetype": "text/x-python",
   "name": "python",
   "nbconvert_exporter": "python",
   "pygments_lexer": "ipython3",
   "version": "3.8.8"
  }
 },
 "nbformat": 4,
 "nbformat_minor": 5
}
